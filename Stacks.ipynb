{
 "cells": [
  {
   "cell_type": "markdown",
   "id": "7b97758e",
   "metadata": {},
   "source": [
    "## Stacks in python"
   ]
  },
  {
   "cell_type": "code",
   "execution_count": 1,
   "id": "91bf67e5",
   "metadata": {},
   "outputs": [],
   "source": [
    "stack = []"
   ]
  },
  {
   "cell_type": "code",
   "execution_count": 2,
   "id": "c7548806",
   "metadata": {},
   "outputs": [
    {
     "data": {
      "text/plain": [
       "[2]"
      ]
     },
     "execution_count": 2,
     "metadata": {},
     "output_type": "execute_result"
    }
   ],
   "source": [
    "stack.append(2)\n",
    "stack"
   ]
  },
  {
   "cell_type": "code",
   "execution_count": 3,
   "id": "0a6a373e",
   "metadata": {},
   "outputs": [
    {
     "data": {
      "text/plain": [
       "[2, 8]"
      ]
     },
     "execution_count": 3,
     "metadata": {},
     "output_type": "execute_result"
    }
   ],
   "source": [
    "stack.append(8)\n",
    "stack"
   ]
  },
  {
   "cell_type": "code",
   "execution_count": 4,
   "id": "7847cc93",
   "metadata": {},
   "outputs": [
    {
     "data": {
      "text/plain": [
       "8"
      ]
     },
     "execution_count": 4,
     "metadata": {},
     "output_type": "execute_result"
    }
   ],
   "source": [
    "stack[-1]"
   ]
  },
  {
   "cell_type": "code",
   "execution_count": 5,
   "id": "4f45b134",
   "metadata": {},
   "outputs": [
    {
     "data": {
      "text/plain": [
       "8"
      ]
     },
     "execution_count": 5,
     "metadata": {},
     "output_type": "execute_result"
    }
   ],
   "source": [
    "stack.pop()"
   ]
  },
  {
   "cell_type": "code",
   "execution_count": 6,
   "id": "b51f25f9",
   "metadata": {},
   "outputs": [
    {
     "data": {
      "text/plain": [
       "[2]"
      ]
     },
     "execution_count": 6,
     "metadata": {},
     "output_type": "execute_result"
    }
   ],
   "source": [
    "stack"
   ]
  },
  {
   "cell_type": "code",
   "execution_count": 24,
   "id": "d624863d",
   "metadata": {},
   "outputs": [],
   "source": [
    "class Stack():\n",
    "    def __init__(self):\n",
    "        self.list_stack = []\n",
    "        \n",
    "    def is_empty(self):\n",
    "        if not self.list_stack:\n",
    "            return True\n",
    "        else:\n",
    "            return False\n",
    "        \n",
    "    def push(self,item):\n",
    "        self.list_stack.append(item)\n",
    "        \n",
    "    def pop(self):\n",
    "        return self.list_stack.pop()\n",
    "    \n",
    "    def peek(self):\n",
    "        \n",
    "        if self.list_stack == []:\n",
    "            return None\n",
    "        else:\n",
    "            return self.list_stack[-1]\n",
    "        \n",
    "        def __repr__(self):\n",
    "            return repr(self.list_stack)"
   ]
  },
  {
   "cell_type": "code",
   "execution_count": 25,
   "id": "e72d391b",
   "metadata": {},
   "outputs": [],
   "source": [
    "new_stack = Stack()"
   ]
  },
  {
   "cell_type": "code",
   "execution_count": 26,
   "id": "98c9fabd",
   "metadata": {},
   "outputs": [
    {
     "data": {
      "text/plain": [
       "True"
      ]
     },
     "execution_count": 26,
     "metadata": {},
     "output_type": "execute_result"
    }
   ],
   "source": [
    "new_stack.is_empty()"
   ]
  },
  {
   "cell_type": "code",
   "execution_count": 27,
   "id": "9e495b3b",
   "metadata": {},
   "outputs": [],
   "source": [
    "new_stack.push(5)"
   ]
  },
  {
   "cell_type": "code",
   "execution_count": 28,
   "id": "465c33b3",
   "metadata": {},
   "outputs": [
    {
     "data": {
      "text/plain": [
       "5"
      ]
     },
     "execution_count": 28,
     "metadata": {},
     "output_type": "execute_result"
    }
   ],
   "source": [
    "new_stack.peek()"
   ]
  },
  {
   "cell_type": "code",
   "execution_count": 31,
   "id": "300d5db2",
   "metadata": {},
   "outputs": [
    {
     "name": "stdout",
     "output_type": "stream",
     "text": [
      "<__main__.Stack object at 0x7f0d06f1f4c0>\n"
     ]
    }
   ],
   "source": [
    "new_stack.push(9)\n",
    "print(new_stack)"
   ]
  },
  {
   "cell_type": "code",
   "execution_count": 32,
   "id": "65a8e6ad",
   "metadata": {},
   "outputs": [
    {
     "data": {
      "text/plain": [
       "9"
      ]
     },
     "execution_count": 32,
     "metadata": {},
     "output_type": "execute_result"
    }
   ],
   "source": [
    "new_stack.peek()"
   ]
  },
  {
   "cell_type": "code",
   "execution_count": 33,
   "id": "66df0c16",
   "metadata": {},
   "outputs": [
    {
     "data": {
      "text/plain": [
       "False"
      ]
     },
     "execution_count": 33,
     "metadata": {},
     "output_type": "execute_result"
    }
   ],
   "source": [
    "new_stack.is_empty()"
   ]
  },
  {
   "cell_type": "code",
   "execution_count": null,
   "id": "a4893142",
   "metadata": {},
   "outputs": [],
   "source": []
  },
  {
   "cell_type": "markdown",
   "id": "f715f4b6",
   "metadata": {},
   "source": [
    "## Balance brackets challenge"
   ]
  },
  {
   "cell_type": "markdown",
   "id": "31551248",
   "metadata": {},
   "source": [
    "#### Write a function to detremine whether a sting of brackets is balanced\n",
    "#### It should take a string as an input and return True if balanced\n",
    "#### [[({})]] is an example of a balanced brackets. [({)})] is not balanced."
   ]
  },
  {
   "cell_type": "code",
   "execution_count": 48,
   "id": "29b41cfe",
   "metadata": {},
   "outputs": [],
   "source": [
    "def balanced_brackets(s):\n",
    "    \n",
    "    stack = []\n",
    "    brackets = {'(':')','[':']','{':'}'}\n",
    "    \n",
    "    for char in s:\n",
    "        \n",
    "        if char in brackets.keys():\n",
    "            \n",
    "            stack.append(char)\n",
    "        \n",
    "        else:\n",
    "            \n",
    "            if len(stack) == 0 or brackets[stack.pop()] != char:\n",
    "                return False\n",
    "            \n",
    "    return len(stack) == 0\n",
    "        \n",
    "    "
   ]
  },
  {
   "cell_type": "code",
   "execution_count": 49,
   "id": "b46de90f",
   "metadata": {},
   "outputs": [],
   "source": [
    "string = '[[({})]]'"
   ]
  },
  {
   "cell_type": "code",
   "execution_count": 50,
   "id": "5a5ec2e9",
   "metadata": {},
   "outputs": [
    {
     "data": {
      "text/plain": [
       "True"
      ]
     },
     "execution_count": 50,
     "metadata": {},
     "output_type": "execute_result"
    }
   ],
   "source": [
    "balanced_brackets(string)"
   ]
  },
  {
   "cell_type": "code",
   "execution_count": 51,
   "id": "0f9fae04",
   "metadata": {},
   "outputs": [],
   "source": [
    "string_2 = '](}]({]}))'"
   ]
  },
  {
   "cell_type": "code",
   "execution_count": 52,
   "id": "86a723cf",
   "metadata": {},
   "outputs": [
    {
     "data": {
      "text/plain": [
       "False"
      ]
     },
     "execution_count": 52,
     "metadata": {},
     "output_type": "execute_result"
    }
   ],
   "source": [
    "balanced_brackets(string_2)"
   ]
  },
  {
   "cell_type": "code",
   "execution_count": null,
   "id": "0094bf1f",
   "metadata": {},
   "outputs": [],
   "source": []
  },
  {
   "cell_type": "markdown",
   "id": "6eb9f622",
   "metadata": {},
   "source": [
    "## Towers of Hanoi Challenge\n",
    "#### When moving 3 disks from A to C, we move the top two disks to B and then the bottom disk to C. More generally, when moving n disks from A to C we move n-1 disks to B; we then move the base disk from A to C and then move the stack of n-1 on B to C."
   ]
  },
  {
   "cell_type": "code",
   "execution_count": 53,
   "id": "aef679ad",
   "metadata": {},
   "outputs": [],
   "source": [
    "# We have 3 towers A, B and C or 3 stacks\n",
    "\n",
    "A = [3,2,1]\n",
    "B = []\n",
    "C = []"
   ]
  },
  {
   "cell_type": "code",
   "execution_count": 54,
   "id": "3dd39bec",
   "metadata": {},
   "outputs": [],
   "source": [
    "# According to rules above, if we want to move all disks 3,2 and 1 from A to C, we first move two disks\n",
    "# the base disk from A to C and then the stack of two from b to c\n",
    "count = 0\n",
    "def towers_of_hanoi(A,B,C,n):# n is the number of disks that we want to move\n",
    "    global count\n",
    "    \n",
    "    if n == 1:#if we only have one item on the stack\n",
    "        disk = A.pop()# we remove it \n",
    "        C.append(disk)# then add it here\n",
    "        count += 1\n",
    "    else: \n",
    "        \n",
    "        towers_of_hanoi(A,C,B,n-1)#if n is > than 1 move the first two disks from A to B using C as the in between tower\n",
    "        \n",
    "        towers_of_hanoi(A,B,C,1) # here we are only left with the base isk which we irectly move to C\n",
    "        \n",
    "        towers_of_hanoi(B,A,C,n-1)# Move n - 1 disks fom B to C using A as the in between tower\n",
    "    return count"
   ]
  },
  {
   "cell_type": "code",
   "execution_count": 57,
   "id": "40a5cbd6",
   "metadata": {},
   "outputs": [
    {
     "data": {
      "text/plain": [
       "7"
      ]
     },
     "execution_count": 57,
     "metadata": {},
     "output_type": "execute_result"
    }
   ],
   "source": [
    "towers_of_hanoi(A,B,C,3)"
   ]
  },
  {
   "cell_type": "code",
   "execution_count": 59,
   "id": "b65d7784",
   "metadata": {},
   "outputs": [
    {
     "data": {
      "text/plain": [
       "[]"
      ]
     },
     "execution_count": 59,
     "metadata": {},
     "output_type": "execute_result"
    }
   ],
   "source": [
    "A"
   ]
  },
  {
   "cell_type": "code",
   "execution_count": 60,
   "id": "59b57db3",
   "metadata": {},
   "outputs": [
    {
     "data": {
      "text/plain": [
       "[]"
      ]
     },
     "execution_count": 60,
     "metadata": {},
     "output_type": "execute_result"
    }
   ],
   "source": [
    "B"
   ]
  },
  {
   "cell_type": "code",
   "execution_count": 61,
   "id": "a1f91c12",
   "metadata": {},
   "outputs": [
    {
     "data": {
      "text/plain": [
       "[3, 2, 1]"
      ]
     },
     "execution_count": 61,
     "metadata": {},
     "output_type": "execute_result"
    }
   ],
   "source": [
    "C"
   ]
  },
  {
   "cell_type": "code",
   "execution_count": null,
   "id": "23ee5b9c",
   "metadata": {},
   "outputs": [],
   "source": []
  }
 ],
 "metadata": {
  "kernelspec": {
   "display_name": "Python 3 (ipykernel)",
   "language": "python",
   "name": "python3"
  },
  "language_info": {
   "codemirror_mode": {
    "name": "ipython",
    "version": 3
   },
   "file_extension": ".py",
   "mimetype": "text/x-python",
   "name": "python",
   "nbconvert_exporter": "python",
   "pygments_lexer": "ipython3",
   "version": "3.9.7"
  }
 },
 "nbformat": 4,
 "nbformat_minor": 5
}
